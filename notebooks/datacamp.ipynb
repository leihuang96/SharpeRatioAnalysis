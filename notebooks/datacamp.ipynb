{
 "cells": [
  {
   "cell_type": "code",
   "execution_count": null,
   "metadata": {},
   "outputs": [],
   "source": [
    "import pandas as pd\n",
    "import numpy as np\n",
    "import matplotlib.pyplot as plt\n",
    "\n",
    "# Settings to produce nice plots in a Jupyter notebook\n",
    "plt.style.use('fivethirtyeight')\n",
    "%matplotlib inline\n",
    "\n",
    "# Reading in the data\n",
    "stock_data = pd.read_csv('../datasets/raw/stock_data.csv', index_col='Date', parse_dates=True).dropna()\n",
    "benchmark_data = pd.read_csv('../datasets/raw/benchmark_data.csv', index_col='Date', parse_dates=True).dropna()"
   ]
  },
  {
   "cell_type": "code",
   "execution_count": null,
   "metadata": {},
   "outputs": [],
   "source": [
    "# Display summary for stock_data\n",
    "print(stock_data.info())\n",
    "print(benchmark_data.info())\n"
   ]
  },
  {
   "cell_type": "code",
   "execution_count": null,
   "metadata": {},
   "outputs": [],
   "source": [
    "stock_data.plot(subplots=True, title='Stock Data')\n",
    "stock_data.describe()\n",
    "benchmark_data.plot(subplots=True, title='S&P 500')\n",
    "benchmark_data.describe()"
   ]
  },
  {
   "cell_type": "code",
   "execution_count": null,
   "metadata": {},
   "outputs": [],
   "source": [
    "# calculate daily stock_data returns\n",
    "stock_returns = stock_data.pct_change()\n",
    "\n",
    "# plot the daily returns\n",
    "# ... YOUR CODE FOR TASK 5 HERE ...\n",
    "stock_returns.plot()\n",
    "\n",
    "# summarize the daily returns\n",
    "# ... YOUR CODE FOR TASK 5 HERE ...\n",
    "stock_returns.describe()"
   ]
  },
  {
   "cell_type": "code",
   "execution_count": null,
   "metadata": {},
   "outputs": [],
   "source": [
    "sp_returns = benchmark_data['S&P 500'].pct_change()\n",
    "sp_returns.plot(title='S&P 500 Returns')\n",
    "sp_returns.describe()\n"
   ]
  },
  {
   "cell_type": "code",
   "execution_count": null,
   "metadata": {},
   "outputs": [],
   "source": [
    "excess_returns = stock_returns.sub(sp_returns, axis=0)\n",
    "excess_returns.plot(title='Excess Returns')\n",
    "excess_returns.describe()\n"
   ]
  },
  {
   "cell_type": "code",
   "execution_count": null,
   "metadata": {},
   "outputs": [],
   "source": [
    "avg_excess_return = excess_returns.mean()\n",
    "avg_excess_return.plot.bar(title='Mean of the Return Difference')\n"
   ]
  },
  {
   "cell_type": "code",
   "execution_count": null,
   "metadata": {},
   "outputs": [],
   "source": [
    "# calculate the standard deviations\n",
    "sd_excess_return = excess_returns.std()\n",
    "\n",
    "# plot the standard deviations\n",
    "# ... YOUR CODE FOR TASK 9 HERE ...\n",
    "sd_excess_return.plot.bar(title='Standard Deviation of the Return Difference')"
   ]
  },
  {
   "cell_type": "code",
   "execution_count": null,
   "metadata": {},
   "outputs": [],
   "source": [
    "daily_sharpe_ratio = avg_excess_return.div(sd_excess_return)\n",
    "annual_factor = np.sqrt(252)\n",
    "annual_sharpe_ratio = daily_sharpe_ratio.mul(annual_factor)\n",
    "annual_sharpe_ratio.plot.bar(title='Annualized Sharpe Ratio: Stocks vs S&P 500')\n"
   ]
  }
 ],
 "metadata": {
  "kernelspec": {
   "display_name": "Python 3",
   "language": "python",
   "name": "python3"
  },
  "language_info": {
   "codemirror_mode": {
    "name": "ipython",
    "version": 3
   },
   "file_extension": ".py",
   "mimetype": "text/x-python",
   "name": "python",
   "nbconvert_exporter": "python",
   "pygments_lexer": "ipython3",
   "version": "3.11.7"
  }
 },
 "nbformat": 4,
 "nbformat_minor": 2
}
